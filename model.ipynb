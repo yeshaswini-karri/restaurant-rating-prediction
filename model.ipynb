{
 "cells": [
  {
   "cell_type": "code",
   "execution_count": 1,
   "id": "726e40f7",
   "metadata": {},
   "outputs": [],
   "source": [
    "import pandas as pd\n",
    "from sklearn.model_selection import train_test_split\n",
    "from sklearn.tree import DecisionTreeRegressor\n",
    "from sklearn.metrics import mean_squared_error, r2_score\n",
    "import matplotlib.pyplot as plt\n",
    "import numpy as np\n",
    "import joblib"
   ]
  },
  {
   "cell_type": "code",
   "execution_count": 2,
   "id": "283b5b56",
   "metadata": {},
   "outputs": [],
   "source": [
    "df = pd.read_csv('restaurant_data.csv')"
   ]
  },
  {
   "cell_type": "code",
   "execution_count": 3,
   "id": "c252f7a4",
   "metadata": {},
   "outputs": [
    {
     "name": "stdout",
     "output_type": "stream",
     "text": [
      "Cuisines    9\n",
      "dtype: int64\n"
     ]
    }
   ],
   "source": [
    "missing_values = df.isnull().sum()\n",
    "\n",
    "# Display columns with missing values\n",
    "print(missing_values[missing_values > 0])"
   ]
  },
  {
   "cell_type": "code",
   "execution_count": 4,
   "id": "0973516d",
   "metadata": {},
   "outputs": [],
   "source": [
    "df.dropna(subset=['Cuisines'], inplace=True)\n"
   ]
  },
  {
   "cell_type": "code",
   "execution_count": 5,
   "id": "6e574f71",
   "metadata": {
    "scrolled": true
   },
   "outputs": [],
   "source": [
    "# Select relevant features and the target variable\n",
    "features = ['Cuisines','Average Cost for two', 'Price range', 'Votes', 'Has Table booking', 'Has Online delivery', 'Is delivering now']\n",
    "target = 'Aggregate rating'"
   ]
  },
  {
   "cell_type": "code",
   "execution_count": 6,
   "id": "7b636aad",
   "metadata": {},
   "outputs": [],
   "source": [
    "df_encoded = pd.get_dummies(df[features])\n",
    "\n",
    "# Add the target variable\n",
    "df_encoded[target] = df[target]\n"
   ]
  },
  {
   "cell_type": "code",
   "execution_count": 7,
   "id": "7fac0854",
   "metadata": {},
   "outputs": [],
   "source": [
    "# Define the features (X) and target (y)\n",
    "X = df_encoded.drop(columns=[target])\n",
    "y = df_encoded[target]"
   ]
  },
  {
   "cell_type": "code",
   "execution_count": 8,
   "id": "9b3c7b67",
   "metadata": {},
   "outputs": [],
   "source": [
    "# Split the data into training and testing sets (80% train, 20% test)\n",
    "X_train, X_test, y_train, y_test = train_test_split(X, y, test_size=0.2, random_state=42)\n"
   ]
  },
  {
   "cell_type": "code",
   "execution_count": 9,
   "id": "f39f19fb",
   "metadata": {},
   "outputs": [],
   "source": [
    "# Initialize and train the Decision Tree Regressor\n",
    "regressor = DecisionTreeRegressor(random_state=42)\n",
    "regressor.fit(X_train, y_train)\n",
    "\n",
    "# Predict on the testing set\n",
    "y_pred = regressor.predict(X_test)"
   ]
  },
  {
   "cell_type": "code",
   "execution_count": 10,
   "id": "52731fce",
   "metadata": {},
   "outputs": [
    {
     "name": "stdout",
     "output_type": "stream",
     "text": [
      "Mean Squared Error: 0.1754293754729061\n",
      "R-squared: 0.9233943630200344\n"
     ]
    }
   ],
   "source": [
    "# Evaluate the model\n",
    "mse = mean_squared_error(y_test, y_pred)\n",
    "r2 = r2_score(y_test, y_pred)\n",
    "\n",
    "print(f'Mean Squared Error: {mse}')\n",
    "print(f'R-squared: {r2}')"
   ]
  },
  {
   "cell_type": "code",
   "execution_count": 11,
   "id": "f96dce0f",
   "metadata": {},
   "outputs": [
    {
     "data": {
      "text/plain": [
       "['model_columns.pkl']"
      ]
     },
     "execution_count": 11,
     "metadata": {},
     "output_type": "execute_result"
    }
   ],
   "source": [
    "# Save the model\n",
    "joblib.dump(regressor, 'restaurant_rating_predictor.pkl')\n",
    "\n",
    "# Save the columns used for one-hot encoding\n",
    "joblib.dump(df_encoded.columns, 'model_columns.pkl')"
   ]
  },
  {
   "cell_type": "code",
   "execution_count": 12,
   "id": "b46d6980",
   "metadata": {},
   "outputs": [],
   "source": [
    "# Function to predict the aggregate rating based on user input features\n",
    "def predict_rating(input_features):\n",
    "    # Load the trained model\n",
    "    model = joblib.load('restaurant_rating_predictor.pkl')\n",
    "    \n",
    "    # Load the columns used for one-hot encoding\n",
    "    model_columns = joblib.load('model_columns.pkl')\n",
    "    \n",
    "    # Convert input features to a DataFrame\n",
    "    input_df = pd.DataFrame([input_features])\n",
    "    \n",
    "    # Encode categorical variables\n",
    "    input_encoded = pd.get_dummies(input_df)\n",
    "    \n",
    "    # Ensure the input has the same columns as the training data\n",
    "    input_encoded = input_encoded.reindex(columns=model_columns, fill_value=0)\n",
    "    \n",
    "    # Predict the aggregate rating\n",
    "    rating = model.predict(input_encoded.drop(columns=[target], errors='ignore'))\n",
    "    \n",
    "    return rating[0]"
   ]
  },
  {
   "cell_type": "markdown",
   "id": "0b2a64a8",
   "metadata": {},
   "source": [
    "### Predicting Aggregate ratings based on input features entered by user "
   ]
  },
  {
   "cell_type": "code",
   "execution_count": 13,
   "id": "2619c9ae",
   "metadata": {
    "scrolled": true
   },
   "outputs": [
    {
     "name": "stdout",
     "output_type": "stream",
     "text": [
      "Enter Cuisines: Chinese\n",
      "Enter Average Cost for two: 1000\n",
      "Enter Price range: 3\n",
      "Enter Votes: 336\n",
      "Enter Has Table booking: No\n",
      "Enter Has Online delivery: No\n",
      "Enter Is delivering now: No\n",
      "Predicted Aggregate Rating: 4.4\n"
     ]
    }
   ],
   "source": [
    "def main():\n",
    "    features = ['Cuisines', 'Average Cost for two', 'Price range', 'Votes', \n",
    "                'Has Table booking', 'Has Online delivery', 'Is delivering now']\n",
    "    \n",
    "    # Dictionary to store user input\n",
    "    input_features = {}\n",
    "    \n",
    "    # Prompt user for input for each feature\n",
    "    for feature in features:\n",
    "        value = input(f\"Enter {feature}: \")\n",
    "        # Special handling for numeric and categorical inputs\n",
    "        if feature in ['Average Cost for two', 'Price range', 'Votes']:\n",
    "            input_features[feature] = int(value)  # Convert numeric inputs to integer\n",
    "        else:\n",
    "            input_features[feature] = value\n",
    "    \n",
    "    # Predict the aggregate rating\n",
    "    predicted_rating = predict_rating(input_features)\n",
    "    \n",
    "    print(f\"Predicted Aggregate Rating: {predicted_rating}\")\n",
    "\n",
    "if __name__ == \"__main__\":\n",
    "    main()"
   ]
  },
  {
   "cell_type": "markdown",
   "id": "9e3699a5",
   "metadata": {},
   "source": [
    "### Determining the most influential features affecting the aggregate ratings of restaurants"
   ]
  },
  {
   "cell_type": "code",
   "execution_count": 14,
   "id": "11b17a3e",
   "metadata": {},
   "outputs": [
    {
     "name": "stdout",
     "output_type": "stream",
     "text": [
      "Cuisines: 0.0\n",
      "Average Cost for two: 0.011264452877197715\n",
      "Price range: 0.0033444949374769758\n",
      "Votes: 0.9534155691431723\n",
      "Has Table booking: 0.0\n",
      "Has Online delivery: 0.0\n",
      "Is delivering now: 0.0\n"
     ]
    }
   ],
   "source": [
    "# Initialize and train the Decision Tree Regressor\n",
    "regressor = DecisionTreeRegressor(random_state=42)\n",
    "regressor.fit(X, y)\n",
    "\n",
    "# Get feature importances\n",
    "feature_importances = regressor.feature_importances_\n",
    "\n",
    "# Create a dictionary to store feature names and their importances\n",
    "importance_dict = dict(zip(X.columns, feature_importances))\n",
    "\n",
    "# Print feature names and their importance values\n",
    "for feature in features:\n",
    "    print(f\"{feature}: {importance_dict.get(feature, 0.0)}\")"
   ]
  },
  {
   "cell_type": "code",
   "execution_count": 15,
   "id": "780e0750",
   "metadata": {},
   "outputs": [
    {
     "data": {
      "image/png": "[encoded data removed]",
      "text/plain": [
       "<Figure size 600x300 with 1 Axes>"
      ]
     },
     "metadata": {},
     "output_type": "display_data"
    }
   ],
   "source": [
    "# Plotting feature vs importance graph\n",
    "plt.figure(figsize=(6, 3))\n",
    "plt.bar(features, [importance_dict.get(feature, 0.0) for feature in features], color='skyblue')\n",
    "plt.xlabel('Features')\n",
    "plt.ylabel('Importance')\n",
    "plt.title('Feature Importances affecting Restaurant Ratings')\n",
    "plt.xticks(rotation=45)\n",
    "plt.show()"
   ]
  },
  {
   "cell_type": "code",
   "execution_count": null,
   "id": "71c2c044",
   "metadata": {},
   "outputs": [],
   "source": []
  }
 ],
 "metadata": {
  "kernelspec": {
   "display_name": "Python 3 (ipykernel)",
   "language": "python",
   "name": "python3"
  },
  "language_info": {
   "codemirror_mode": {
    "name": "ipython",
    "version": 3
   },
   "file_extension": ".py",
   "mimetype": "text/x-python",
   "name": "python",
   "nbconvert_exporter": "python",
   "pygments_lexer": "ipython3",
   "version": "3.11.1"
  }
 },
 "nbformat": 4,
 "nbformat_minor": 5
}
